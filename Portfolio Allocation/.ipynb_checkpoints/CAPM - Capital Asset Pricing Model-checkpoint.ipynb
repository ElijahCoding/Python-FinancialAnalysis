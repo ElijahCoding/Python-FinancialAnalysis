{
 "cells": [
  {
   "cell_type": "markdown",
   "metadata": {},
   "source": [
    "# CAPM - Capital Asset Pricing Model"
   ]
  },
  {
   "cell_type": "code",
   "execution_count": 1,
   "metadata": {},
   "outputs": [],
   "source": [
    "from scipy import stats\n",
    "import pandas as pd\n",
    "import pandas_datareader as web"
   ]
  },
  {
   "cell_type": "code",
   "execution_count": 2,
   "metadata": {},
   "outputs": [],
   "source": [
    "spy_etf = web.DataReader('SPY', 'stooq')"
   ]
  },
  {
   "cell_type": "code",
   "execution_count": 3,
   "metadata": {},
   "outputs": [
    {
     "name": "stdout",
     "output_type": "stream",
     "text": [
      "<class 'pandas.core.frame.DataFrame'>\n",
      "DatetimeIndex: 1257 entries, 2019-12-24 to 2014-12-29\n",
      "Data columns (total 5 columns):\n",
      "Open      1257 non-null float64\n",
      "High      1257 non-null float64\n",
      "Low       1257 non-null float64\n",
      "Close     1257 non-null float64\n",
      "Volume    1257 non-null int64\n",
      "dtypes: float64(4), int64(1)\n",
      "memory usage: 58.9 KB\n"
     ]
    }
   ],
   "source": [
    "spy_etf.info()"
   ]
  },
  {
   "cell_type": "code",
   "execution_count": 4,
   "metadata": {},
   "outputs": [
    {
     "data": {
      "text/html": [
       "<div>\n",
       "<style scoped>\n",
       "    .dataframe tbody tr th:only-of-type {\n",
       "        vertical-align: middle;\n",
       "    }\n",
       "\n",
       "    .dataframe tbody tr th {\n",
       "        vertical-align: top;\n",
       "    }\n",
       "\n",
       "    .dataframe thead th {\n",
       "        text-align: right;\n",
       "    }\n",
       "</style>\n",
       "<table border=\"1\" class=\"dataframe\">\n",
       "  <thead>\n",
       "    <tr style=\"text-align: right;\">\n",
       "      <th></th>\n",
       "      <th>Open</th>\n",
       "      <th>High</th>\n",
       "      <th>Low</th>\n",
       "      <th>Close</th>\n",
       "      <th>Volume</th>\n",
       "    </tr>\n",
       "    <tr>\n",
       "      <th>Date</th>\n",
       "      <th></th>\n",
       "      <th></th>\n",
       "      <th></th>\n",
       "      <th></th>\n",
       "      <th></th>\n",
       "    </tr>\n",
       "  </thead>\n",
       "  <tbody>\n",
       "    <tr>\n",
       "      <td>2019-12-24</td>\n",
       "      <td>321.47</td>\n",
       "      <td>321.520</td>\n",
       "      <td>320.900</td>\n",
       "      <td>321.23</td>\n",
       "      <td>20270007</td>\n",
       "    </tr>\n",
       "    <tr>\n",
       "      <td>2019-12-23</td>\n",
       "      <td>321.59</td>\n",
       "      <td>321.650</td>\n",
       "      <td>321.060</td>\n",
       "      <td>321.22</td>\n",
       "      <td>53015641</td>\n",
       "    </tr>\n",
       "    <tr>\n",
       "      <td>2019-12-20</td>\n",
       "      <td>320.46</td>\n",
       "      <td>321.974</td>\n",
       "      <td>319.387</td>\n",
       "      <td>320.73</td>\n",
       "      <td>149338215</td>\n",
       "    </tr>\n",
       "    <tr>\n",
       "      <td>2019-12-19</td>\n",
       "      <td>319.80</td>\n",
       "      <td>320.980</td>\n",
       "      <td>319.525</td>\n",
       "      <td>320.90</td>\n",
       "      <td>85388424</td>\n",
       "    </tr>\n",
       "    <tr>\n",
       "      <td>2019-12-18</td>\n",
       "      <td>320.00</td>\n",
       "      <td>320.250</td>\n",
       "      <td>319.530</td>\n",
       "      <td>319.59</td>\n",
       "      <td>48199955</td>\n",
       "    </tr>\n",
       "  </tbody>\n",
       "</table>\n",
       "</div>"
      ],
      "text/plain": [
       "              Open     High      Low   Close     Volume\n",
       "Date                                                   \n",
       "2019-12-24  321.47  321.520  320.900  321.23   20270007\n",
       "2019-12-23  321.59  321.650  321.060  321.22   53015641\n",
       "2019-12-20  320.46  321.974  319.387  320.73  149338215\n",
       "2019-12-19  319.80  320.980  319.525  320.90   85388424\n",
       "2019-12-18  320.00  320.250  319.530  319.59   48199955"
      ]
     },
     "execution_count": 4,
     "metadata": {},
     "output_type": "execute_result"
    }
   ],
   "source": [
    "spy_etf.head()"
   ]
  },
  {
   "cell_type": "code",
   "execution_count": null,
   "metadata": {},
   "outputs": [],
   "source": []
  }
 ],
 "metadata": {
  "kernelspec": {
   "display_name": "Python 3",
   "language": "python",
   "name": "python3"
  },
  "language_info": {
   "codemirror_mode": {
    "name": "ipython",
    "version": 3
   },
   "file_extension": ".py",
   "mimetype": "text/x-python",
   "name": "python",
   "nbconvert_exporter": "python",
   "pygments_lexer": "ipython3",
   "version": "3.7.4"
  }
 },
 "nbformat": 4,
 "nbformat_minor": 2
}
