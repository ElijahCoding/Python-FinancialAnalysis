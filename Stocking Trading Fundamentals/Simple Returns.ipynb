{
 "cells": [
  {
   "cell_type": "code",
   "execution_count": 1,
   "metadata": {},
   "outputs": [],
   "source": [
    "import numpy as np\n",
    "from pandas_datareader import data as wb\n",
    "import matplotlib.pyplot as plt\n",
    "api_key=\"wa-FxFLJyWvFsyxj6zpA\""
   ]
  },
  {
   "cell_type": "code",
   "execution_count": 2,
   "metadata": {},
   "outputs": [],
   "source": [
    "PG = wb.DataReader('PG', data_source='quandl', start='1995-1-1', api_key=api_key)"
   ]
  },
  {
   "cell_type": "code",
   "execution_count": 3,
   "metadata": {},
   "outputs": [
    {
     "data": {
      "text/html": [
       "<div>\n",
       "<style scoped>\n",
       "    .dataframe tbody tr th:only-of-type {\n",
       "        vertical-align: middle;\n",
       "    }\n",
       "\n",
       "    .dataframe tbody tr th {\n",
       "        vertical-align: top;\n",
       "    }\n",
       "\n",
       "    .dataframe thead th {\n",
       "        text-align: right;\n",
       "    }\n",
       "</style>\n",
       "<table border=\"1\" class=\"dataframe\">\n",
       "  <thead>\n",
       "    <tr style=\"text-align: right;\">\n",
       "      <th></th>\n",
       "      <th>Open</th>\n",
       "      <th>High</th>\n",
       "      <th>Low</th>\n",
       "      <th>Close</th>\n",
       "      <th>Volume</th>\n",
       "      <th>ExDividend</th>\n",
       "      <th>SplitRatio</th>\n",
       "      <th>AdjOpen</th>\n",
       "      <th>AdjHigh</th>\n",
       "      <th>AdjLow</th>\n",
       "      <th>AdjClose</th>\n",
       "      <th>AdjVolume</th>\n",
       "    </tr>\n",
       "    <tr>\n",
       "      <th>Date</th>\n",
       "      <th></th>\n",
       "      <th></th>\n",
       "      <th></th>\n",
       "      <th></th>\n",
       "      <th></th>\n",
       "      <th></th>\n",
       "      <th></th>\n",
       "      <th></th>\n",
       "      <th></th>\n",
       "      <th></th>\n",
       "      <th></th>\n",
       "      <th></th>\n",
       "    </tr>\n",
       "  </thead>\n",
       "  <tbody>\n",
       "    <tr>\n",
       "      <td>2018-03-27</td>\n",
       "      <td>76.53</td>\n",
       "      <td>78.44</td>\n",
       "      <td>76.300</td>\n",
       "      <td>77.79</td>\n",
       "      <td>11257559.0</td>\n",
       "      <td>0.0</td>\n",
       "      <td>1.0</td>\n",
       "      <td>76.53</td>\n",
       "      <td>78.44</td>\n",
       "      <td>76.300</td>\n",
       "      <td>77.79</td>\n",
       "      <td>11257559.0</td>\n",
       "    </tr>\n",
       "    <tr>\n",
       "      <td>2018-03-26</td>\n",
       "      <td>76.57</td>\n",
       "      <td>76.87</td>\n",
       "      <td>76.020</td>\n",
       "      <td>76.41</td>\n",
       "      <td>11959444.0</td>\n",
       "      <td>0.0</td>\n",
       "      <td>1.0</td>\n",
       "      <td>76.57</td>\n",
       "      <td>76.87</td>\n",
       "      <td>76.020</td>\n",
       "      <td>76.41</td>\n",
       "      <td>11959444.0</td>\n",
       "    </tr>\n",
       "    <tr>\n",
       "      <td>2018-03-23</td>\n",
       "      <td>76.79</td>\n",
       "      <td>77.18</td>\n",
       "      <td>75.805</td>\n",
       "      <td>75.91</td>\n",
       "      <td>11626422.0</td>\n",
       "      <td>0.0</td>\n",
       "      <td>1.0</td>\n",
       "      <td>76.79</td>\n",
       "      <td>77.18</td>\n",
       "      <td>75.805</td>\n",
       "      <td>75.91</td>\n",
       "      <td>11626422.0</td>\n",
       "    </tr>\n",
       "    <tr>\n",
       "      <td>2018-03-22</td>\n",
       "      <td>76.83</td>\n",
       "      <td>77.52</td>\n",
       "      <td>76.370</td>\n",
       "      <td>76.41</td>\n",
       "      <td>10396180.0</td>\n",
       "      <td>0.0</td>\n",
       "      <td>1.0</td>\n",
       "      <td>76.83</td>\n",
       "      <td>77.52</td>\n",
       "      <td>76.370</td>\n",
       "      <td>76.41</td>\n",
       "      <td>10396180.0</td>\n",
       "    </tr>\n",
       "    <tr>\n",
       "      <td>2018-03-21</td>\n",
       "      <td>78.05</td>\n",
       "      <td>78.24</td>\n",
       "      <td>76.880</td>\n",
       "      <td>77.04</td>\n",
       "      <td>9776002.0</td>\n",
       "      <td>0.0</td>\n",
       "      <td>1.0</td>\n",
       "      <td>78.05</td>\n",
       "      <td>78.24</td>\n",
       "      <td>76.880</td>\n",
       "      <td>77.04</td>\n",
       "      <td>9776002.0</td>\n",
       "    </tr>\n",
       "  </tbody>\n",
       "</table>\n",
       "</div>"
      ],
      "text/plain": [
       "             Open   High     Low  Close      Volume  ExDividend  SplitRatio  \\\n",
       "Date                                                                          \n",
       "2018-03-27  76.53  78.44  76.300  77.79  11257559.0         0.0         1.0   \n",
       "2018-03-26  76.57  76.87  76.020  76.41  11959444.0         0.0         1.0   \n",
       "2018-03-23  76.79  77.18  75.805  75.91  11626422.0         0.0         1.0   \n",
       "2018-03-22  76.83  77.52  76.370  76.41  10396180.0         0.0         1.0   \n",
       "2018-03-21  78.05  78.24  76.880  77.04   9776002.0         0.0         1.0   \n",
       "\n",
       "            AdjOpen  AdjHigh  AdjLow  AdjClose   AdjVolume  \n",
       "Date                                                        \n",
       "2018-03-27    76.53    78.44  76.300     77.79  11257559.0  \n",
       "2018-03-26    76.57    76.87  76.020     76.41  11959444.0  \n",
       "2018-03-23    76.79    77.18  75.805     75.91  11626422.0  \n",
       "2018-03-22    76.83    77.52  76.370     76.41  10396180.0  \n",
       "2018-03-21    78.05    78.24  76.880     77.04   9776002.0  "
      ]
     },
     "execution_count": 3,
     "metadata": {},
     "output_type": "execute_result"
    }
   ],
   "source": [
    "PG.head()"
   ]
  },
  {
   "cell_type": "code",
   "execution_count": 4,
   "metadata": {},
   "outputs": [
    {
     "data": {
      "text/html": [
       "<div>\n",
       "<style scoped>\n",
       "    .dataframe tbody tr th:only-of-type {\n",
       "        vertical-align: middle;\n",
       "    }\n",
       "\n",
       "    .dataframe tbody tr th {\n",
       "        vertical-align: top;\n",
       "    }\n",
       "\n",
       "    .dataframe thead th {\n",
       "        text-align: right;\n",
       "    }\n",
       "</style>\n",
       "<table border=\"1\" class=\"dataframe\">\n",
       "  <thead>\n",
       "    <tr style=\"text-align: right;\">\n",
       "      <th></th>\n",
       "      <th>Open</th>\n",
       "      <th>High</th>\n",
       "      <th>Low</th>\n",
       "      <th>Close</th>\n",
       "      <th>Volume</th>\n",
       "      <th>ExDividend</th>\n",
       "      <th>SplitRatio</th>\n",
       "      <th>AdjOpen</th>\n",
       "      <th>AdjHigh</th>\n",
       "      <th>AdjLow</th>\n",
       "      <th>AdjClose</th>\n",
       "      <th>AdjVolume</th>\n",
       "    </tr>\n",
       "    <tr>\n",
       "      <th>Date</th>\n",
       "      <th></th>\n",
       "      <th></th>\n",
       "      <th></th>\n",
       "      <th></th>\n",
       "      <th></th>\n",
       "      <th></th>\n",
       "      <th></th>\n",
       "      <th></th>\n",
       "      <th></th>\n",
       "      <th></th>\n",
       "      <th></th>\n",
       "      <th></th>\n",
       "    </tr>\n",
       "  </thead>\n",
       "  <tbody>\n",
       "    <tr>\n",
       "      <td>1995-01-09</td>\n",
       "      <td>61.38</td>\n",
       "      <td>61.63</td>\n",
       "      <td>60.75</td>\n",
       "      <td>60.88</td>\n",
       "      <td>448800.0</td>\n",
       "      <td>0.0</td>\n",
       "      <td>1.0</td>\n",
       "      <td>8.880469</td>\n",
       "      <td>8.916639</td>\n",
       "      <td>8.789320</td>\n",
       "      <td>8.808129</td>\n",
       "      <td>1795200.0</td>\n",
       "    </tr>\n",
       "    <tr>\n",
       "      <td>1995-01-06</td>\n",
       "      <td>60.63</td>\n",
       "      <td>61.63</td>\n",
       "      <td>60.63</td>\n",
       "      <td>61.25</td>\n",
       "      <td>859500.0</td>\n",
       "      <td>0.0</td>\n",
       "      <td>1.0</td>\n",
       "      <td>8.771959</td>\n",
       "      <td>8.916639</td>\n",
       "      <td>8.771959</td>\n",
       "      <td>8.861660</td>\n",
       "      <td>3438000.0</td>\n",
       "    </tr>\n",
       "    <tr>\n",
       "      <td>1995-01-05</td>\n",
       "      <td>61.50</td>\n",
       "      <td>61.75</td>\n",
       "      <td>60.88</td>\n",
       "      <td>61.00</td>\n",
       "      <td>579900.0</td>\n",
       "      <td>0.0</td>\n",
       "      <td>1.0</td>\n",
       "      <td>8.897830</td>\n",
       "      <td>8.934000</td>\n",
       "      <td>8.808129</td>\n",
       "      <td>8.825490</td>\n",
       "      <td>2319600.0</td>\n",
       "    </tr>\n",
       "    <tr>\n",
       "      <td>1995-01-04</td>\n",
       "      <td>62.63</td>\n",
       "      <td>62.63</td>\n",
       "      <td>61.25</td>\n",
       "      <td>61.88</td>\n",
       "      <td>554700.0</td>\n",
       "      <td>0.0</td>\n",
       "      <td>1.0</td>\n",
       "      <td>9.061319</td>\n",
       "      <td>9.061319</td>\n",
       "      <td>8.861660</td>\n",
       "      <td>8.952809</td>\n",
       "      <td>2218800.0</td>\n",
       "    </tr>\n",
       "    <tr>\n",
       "      <td>1995-01-03</td>\n",
       "      <td>61.88</td>\n",
       "      <td>62.50</td>\n",
       "      <td>61.75</td>\n",
       "      <td>62.38</td>\n",
       "      <td>829600.0</td>\n",
       "      <td>0.0</td>\n",
       "      <td>1.0</td>\n",
       "      <td>8.952809</td>\n",
       "      <td>9.042510</td>\n",
       "      <td>8.934000</td>\n",
       "      <td>9.025149</td>\n",
       "      <td>3318400.0</td>\n",
       "    </tr>\n",
       "  </tbody>\n",
       "</table>\n",
       "</div>"
      ],
      "text/plain": [
       "             Open   High    Low  Close    Volume  ExDividend  SplitRatio  \\\n",
       "Date                                                                       \n",
       "1995-01-09  61.38  61.63  60.75  60.88  448800.0         0.0         1.0   \n",
       "1995-01-06  60.63  61.63  60.63  61.25  859500.0         0.0         1.0   \n",
       "1995-01-05  61.50  61.75  60.88  61.00  579900.0         0.0         1.0   \n",
       "1995-01-04  62.63  62.63  61.25  61.88  554700.0         0.0         1.0   \n",
       "1995-01-03  61.88  62.50  61.75  62.38  829600.0         0.0         1.0   \n",
       "\n",
       "             AdjOpen   AdjHigh    AdjLow  AdjClose  AdjVolume  \n",
       "Date                                                           \n",
       "1995-01-09  8.880469  8.916639  8.789320  8.808129  1795200.0  \n",
       "1995-01-06  8.771959  8.916639  8.771959  8.861660  3438000.0  \n",
       "1995-01-05  8.897830  8.934000  8.808129  8.825490  2319600.0  \n",
       "1995-01-04  9.061319  9.061319  8.861660  8.952809  2218800.0  \n",
       "1995-01-03  8.952809  9.042510  8.934000  9.025149  3318400.0  "
      ]
     },
     "execution_count": 4,
     "metadata": {},
     "output_type": "execute_result"
    }
   ],
   "source": [
    "PG.tail()"
   ]
  },
  {
   "cell_type": "markdown",
   "metadata": {},
   "source": [
    "### Simple Rate of Return"
   ]
  },
  {
   "cell_type": "code",
   "execution_count": 5,
   "metadata": {},
   "outputs": [],
   "source": [
    "PG['simple_return'] = (PG['AdjClose'] / PG['AdjClose'].shift(1)) - 1\n",
    "# PG['simple_return'] = PG['AdjClose'].pct_change(1)"
   ]
  },
  {
   "cell_type": "code",
   "execution_count": 6,
   "metadata": {},
   "outputs": [
    {
     "data": {
      "text/html": [
       "<div>\n",
       "<style scoped>\n",
       "    .dataframe tbody tr th:only-of-type {\n",
       "        vertical-align: middle;\n",
       "    }\n",
       "\n",
       "    .dataframe tbody tr th {\n",
       "        vertical-align: top;\n",
       "    }\n",
       "\n",
       "    .dataframe thead th {\n",
       "        text-align: right;\n",
       "    }\n",
       "</style>\n",
       "<table border=\"1\" class=\"dataframe\">\n",
       "  <thead>\n",
       "    <tr style=\"text-align: right;\">\n",
       "      <th></th>\n",
       "      <th>Open</th>\n",
       "      <th>High</th>\n",
       "      <th>Low</th>\n",
       "      <th>Close</th>\n",
       "      <th>Volume</th>\n",
       "      <th>ExDividend</th>\n",
       "      <th>SplitRatio</th>\n",
       "      <th>AdjOpen</th>\n",
       "      <th>AdjHigh</th>\n",
       "      <th>AdjLow</th>\n",
       "      <th>AdjClose</th>\n",
       "      <th>AdjVolume</th>\n",
       "      <th>simple_return</th>\n",
       "    </tr>\n",
       "    <tr>\n",
       "      <th>Date</th>\n",
       "      <th></th>\n",
       "      <th></th>\n",
       "      <th></th>\n",
       "      <th></th>\n",
       "      <th></th>\n",
       "      <th></th>\n",
       "      <th></th>\n",
       "      <th></th>\n",
       "      <th></th>\n",
       "      <th></th>\n",
       "      <th></th>\n",
       "      <th></th>\n",
       "      <th></th>\n",
       "    </tr>\n",
       "  </thead>\n",
       "  <tbody>\n",
       "    <tr>\n",
       "      <td>2018-03-27</td>\n",
       "      <td>76.53</td>\n",
       "      <td>78.44</td>\n",
       "      <td>76.300</td>\n",
       "      <td>77.79</td>\n",
       "      <td>11257559.0</td>\n",
       "      <td>0.0</td>\n",
       "      <td>1.0</td>\n",
       "      <td>76.53</td>\n",
       "      <td>78.44</td>\n",
       "      <td>76.300</td>\n",
       "      <td>77.79</td>\n",
       "      <td>11257559.0</td>\n",
       "      <td>NaN</td>\n",
       "    </tr>\n",
       "    <tr>\n",
       "      <td>2018-03-26</td>\n",
       "      <td>76.57</td>\n",
       "      <td>76.87</td>\n",
       "      <td>76.020</td>\n",
       "      <td>76.41</td>\n",
       "      <td>11959444.0</td>\n",
       "      <td>0.0</td>\n",
       "      <td>1.0</td>\n",
       "      <td>76.57</td>\n",
       "      <td>76.87</td>\n",
       "      <td>76.020</td>\n",
       "      <td>76.41</td>\n",
       "      <td>11959444.0</td>\n",
       "      <td>-0.017740</td>\n",
       "    </tr>\n",
       "    <tr>\n",
       "      <td>2018-03-23</td>\n",
       "      <td>76.79</td>\n",
       "      <td>77.18</td>\n",
       "      <td>75.805</td>\n",
       "      <td>75.91</td>\n",
       "      <td>11626422.0</td>\n",
       "      <td>0.0</td>\n",
       "      <td>1.0</td>\n",
       "      <td>76.79</td>\n",
       "      <td>77.18</td>\n",
       "      <td>75.805</td>\n",
       "      <td>75.91</td>\n",
       "      <td>11626422.0</td>\n",
       "      <td>-0.006544</td>\n",
       "    </tr>\n",
       "    <tr>\n",
       "      <td>2018-03-22</td>\n",
       "      <td>76.83</td>\n",
       "      <td>77.52</td>\n",
       "      <td>76.370</td>\n",
       "      <td>76.41</td>\n",
       "      <td>10396180.0</td>\n",
       "      <td>0.0</td>\n",
       "      <td>1.0</td>\n",
       "      <td>76.83</td>\n",
       "      <td>77.52</td>\n",
       "      <td>76.370</td>\n",
       "      <td>76.41</td>\n",
       "      <td>10396180.0</td>\n",
       "      <td>0.006587</td>\n",
       "    </tr>\n",
       "    <tr>\n",
       "      <td>2018-03-21</td>\n",
       "      <td>78.05</td>\n",
       "      <td>78.24</td>\n",
       "      <td>76.880</td>\n",
       "      <td>77.04</td>\n",
       "      <td>9776002.0</td>\n",
       "      <td>0.0</td>\n",
       "      <td>1.0</td>\n",
       "      <td>78.05</td>\n",
       "      <td>78.24</td>\n",
       "      <td>76.880</td>\n",
       "      <td>77.04</td>\n",
       "      <td>9776002.0</td>\n",
       "      <td>0.008245</td>\n",
       "    </tr>\n",
       "  </tbody>\n",
       "</table>\n",
       "</div>"
      ],
      "text/plain": [
       "             Open   High     Low  Close      Volume  ExDividend  SplitRatio  \\\n",
       "Date                                                                          \n",
       "2018-03-27  76.53  78.44  76.300  77.79  11257559.0         0.0         1.0   \n",
       "2018-03-26  76.57  76.87  76.020  76.41  11959444.0         0.0         1.0   \n",
       "2018-03-23  76.79  77.18  75.805  75.91  11626422.0         0.0         1.0   \n",
       "2018-03-22  76.83  77.52  76.370  76.41  10396180.0         0.0         1.0   \n",
       "2018-03-21  78.05  78.24  76.880  77.04   9776002.0         0.0         1.0   \n",
       "\n",
       "            AdjOpen  AdjHigh  AdjLow  AdjClose   AdjVolume  simple_return  \n",
       "Date                                                                       \n",
       "2018-03-27    76.53    78.44  76.300     77.79  11257559.0            NaN  \n",
       "2018-03-26    76.57    76.87  76.020     76.41  11959444.0      -0.017740  \n",
       "2018-03-23    76.79    77.18  75.805     75.91  11626422.0      -0.006544  \n",
       "2018-03-22    76.83    77.52  76.370     76.41  10396180.0       0.006587  \n",
       "2018-03-21    78.05    78.24  76.880     77.04   9776002.0       0.008245  "
      ]
     },
     "execution_count": 6,
     "metadata": {},
     "output_type": "execute_result"
    }
   ],
   "source": [
    "PG.head()"
   ]
  },
  {
   "cell_type": "code",
   "execution_count": 7,
   "metadata": {},
   "outputs": [
    {
     "data": {
      "text/plain": [
       "Date\n",
       "2018-03-27         NaN\n",
       "2018-03-26   -0.017740\n",
       "2018-03-23   -0.006544\n",
       "2018-03-22    0.006587\n",
       "2018-03-21    0.008245\n",
       "                ...   \n",
       "1995-01-09   -0.012169\n",
       "1995-01-06    0.006078\n",
       "1995-01-05   -0.004082\n",
       "1995-01-04    0.014426\n",
       "1995-01-03    0.008080\n",
       "Name: simple_return, Length: 5849, dtype: float64"
      ]
     },
     "execution_count": 7,
     "metadata": {},
     "output_type": "execute_result"
    }
   ],
   "source": [
    "PG['simple_return']"
   ]
  },
  {
   "cell_type": "code",
   "execution_count": 8,
   "metadata": {},
   "outputs": [
    {
     "data": {
      "text/plain": [
       "<matplotlib.axes._subplots.AxesSubplot at 0x117e21090>"
      ]
     },
     "execution_count": 8,
     "metadata": {},
     "output_type": "execute_result"
    },
    {
     "data": {
      "image/png": "[encoded data removed]",
      "text/plain": [
       "<Figure size 432x288 with 1 Axes>"
      ]
     },
     "metadata": {
      "needs_background": "light"
     },
     "output_type": "display_data"
    }
   ],
   "source": [
    "PG['simple_return'].hist(bins=100)"
   ]
  },
  {
   "cell_type": "code",
   "execution_count": 9,
   "metadata": {},
   "outputs": [
    {
     "data": {
      "text/plain": [
       "<matplotlib.axes._subplots.AxesSubplot at 0x11b120150>"
      ]
     },
     "execution_count": 9,
     "metadata": {},
     "output_type": "execute_result"
    },
    {
     "data": {
      "image/png": "[encoded data removed]",
      "text/plain": [
       "<Figure size 576x360 with 1 Axes>"
      ]
     },
     "metadata": {
      "needs_background": "light"
     },
     "output_type": "display_data"
    }
   ],
   "source": [
    "PG['simple_return'].plot(figsize=(8, 5))"
   ]
  },
  {
   "cell_type": "code",
   "execution_count": 10,
   "metadata": {},
   "outputs": [],
   "source": [
    "avg_returns_d = PG['simple_return'].mean()"
   ]
  },
  {
   "cell_type": "code",
   "execution_count": 11,
   "metadata": {},
   "outputs": [
    {
     "data": {
      "text/plain": [
       "-0.000263803225350563"
      ]
     },
     "execution_count": 11,
     "metadata": {},
     "output_type": "execute_result"
    }
   ],
   "source": [
    "avg_returns_d"
   ]
  },
  {
   "cell_type": "code",
   "execution_count": 12,
   "metadata": {},
   "outputs": [
    {
     "data": {
      "text/plain": [
       "-0.06595080633764075"
      ]
     },
     "execution_count": 12,
     "metadata": {},
     "output_type": "execute_result"
    }
   ],
   "source": [
    "avg_returns_a = PG['simple_return'].mean() * 250 # trading days\n",
    "avg_returns_a"
   ]
  },
  {
   "cell_type": "code",
   "execution_count": 13,
   "metadata": {},
   "outputs": [
    {
     "data": {
      "text/plain": [
       "'-6.595 %'"
      ]
     },
     "execution_count": 13,
     "metadata": {},
     "output_type": "execute_result"
    }
   ],
   "source": [
    "str(round(avg_returns_a, 5) * 100) + ' %'"
   ]
  },
  {
   "cell_type": "code",
   "execution_count": null,
   "metadata": {},
   "outputs": [],
   "source": []
  }
 ],
 "metadata": {
  "kernelspec": {
   "display_name": "Python 3",
   "language": "python",
   "name": "python3"
  },
  "language_info": {
   "codemirror_mode": {
    "name": "ipython",
    "version": 3
   },
   "file_extension": ".py",
   "mimetype": "text/x-python",
   "name": "python",
   "nbconvert_exporter": "python",
   "pygments_lexer": "ipython3",
   "version": "3.7.4"
  }
 },
 "nbformat": 4,
 "nbformat_minor": 2
}
