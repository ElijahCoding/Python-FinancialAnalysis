{
 "cells": [
  {
   "cell_type": "code",
   "execution_count": 1,
   "metadata": {},
   "outputs": [],
   "source": [
    "import numpy as np\n",
    "from pandas_datareader import data as wb\n",
    "import matplotlib.pyplot as plt\n",
    "api_key=\"wa-FxFLJyWvFsyxj6zpA\""
   ]
  },
  {
   "cell_type": "code",
   "execution_count": 2,
   "metadata": {},
   "outputs": [],
   "source": [
    "PG = wb.DataReader('PG', data_source='quandl', start='1995-1-1', api_key=api_key)"
   ]
  },
  {
   "cell_type": "code",
   "execution_count": 3,
   "metadata": {},
   "outputs": [
    {
     "data": {
      "text/html": [
       "<div>\n",
       "<style scoped>\n",
       "    .dataframe tbody tr th:only-of-type {\n",
       "        vertical-align: middle;\n",
       "    }\n",
       "\n",
       "    .dataframe tbody tr th {\n",
       "        vertical-align: top;\n",
       "    }\n",
       "\n",
       "    .dataframe thead th {\n",
       "        text-align: right;\n",
       "    }\n",
       "</style>\n",
       "<table border=\"1\" class=\"dataframe\">\n",
       "  <thead>\n",
       "    <tr style=\"text-align: right;\">\n",
       "      <th></th>\n",
       "      <th>Open</th>\n",
       "      <th>High</th>\n",
       "      <th>Low</th>\n",
       "      <th>Close</th>\n",
       "      <th>Volume</th>\n",
       "      <th>ExDividend</th>\n",
       "      <th>SplitRatio</th>\n",
       "      <th>AdjOpen</th>\n",
       "      <th>AdjHigh</th>\n",
       "      <th>AdjLow</th>\n",
       "      <th>AdjClose</th>\n",
       "      <th>AdjVolume</th>\n",
       "    </tr>\n",
       "    <tr>\n",
       "      <th>Date</th>\n",
       "      <th></th>\n",
       "      <th></th>\n",
       "      <th></th>\n",
       "      <th></th>\n",
       "      <th></th>\n",
       "      <th></th>\n",
       "      <th></th>\n",
       "      <th></th>\n",
       "      <th></th>\n",
       "      <th></th>\n",
       "      <th></th>\n",
       "      <th></th>\n",
       "    </tr>\n",
       "  </thead>\n",
       "  <tbody>\n",
       "    <tr>\n",
       "      <td>2018-03-27</td>\n",
       "      <td>76.53</td>\n",
       "      <td>78.44</td>\n",
       "      <td>76.300</td>\n",
       "      <td>77.79</td>\n",
       "      <td>11257559.0</td>\n",
       "      <td>0.0</td>\n",
       "      <td>1.0</td>\n",
       "      <td>76.53</td>\n",
       "      <td>78.44</td>\n",
       "      <td>76.300</td>\n",
       "      <td>77.79</td>\n",
       "      <td>11257559.0</td>\n",
       "    </tr>\n",
       "    <tr>\n",
       "      <td>2018-03-26</td>\n",
       "      <td>76.57</td>\n",
       "      <td>76.87</td>\n",
       "      <td>76.020</td>\n",
       "      <td>76.41</td>\n",
       "      <td>11959444.0</td>\n",
       "      <td>0.0</td>\n",
       "      <td>1.0</td>\n",
       "      <td>76.57</td>\n",
       "      <td>76.87</td>\n",
       "      <td>76.020</td>\n",
       "      <td>76.41</td>\n",
       "      <td>11959444.0</td>\n",
       "    </tr>\n",
       "    <tr>\n",
       "      <td>2018-03-23</td>\n",
       "      <td>76.79</td>\n",
       "      <td>77.18</td>\n",
       "      <td>75.805</td>\n",
       "      <td>75.91</td>\n",
       "      <td>11626422.0</td>\n",
       "      <td>0.0</td>\n",
       "      <td>1.0</td>\n",
       "      <td>76.79</td>\n",
       "      <td>77.18</td>\n",
       "      <td>75.805</td>\n",
       "      <td>75.91</td>\n",
       "      <td>11626422.0</td>\n",
       "    </tr>\n",
       "    <tr>\n",
       "      <td>2018-03-22</td>\n",
       "      <td>76.83</td>\n",
       "      <td>77.52</td>\n",
       "      <td>76.370</td>\n",
       "      <td>76.41</td>\n",
       "      <td>10396180.0</td>\n",
       "      <td>0.0</td>\n",
       "      <td>1.0</td>\n",
       "      <td>76.83</td>\n",
       "      <td>77.52</td>\n",
       "      <td>76.370</td>\n",
       "      <td>76.41</td>\n",
       "      <td>10396180.0</td>\n",
       "    </tr>\n",
       "    <tr>\n",
       "      <td>2018-03-21</td>\n",
       "      <td>78.05</td>\n",
       "      <td>78.24</td>\n",
       "      <td>76.880</td>\n",
       "      <td>77.04</td>\n",
       "      <td>9776002.0</td>\n",
       "      <td>0.0</td>\n",
       "      <td>1.0</td>\n",
       "      <td>78.05</td>\n",
       "      <td>78.24</td>\n",
       "      <td>76.880</td>\n",
       "      <td>77.04</td>\n",
       "      <td>9776002.0</td>\n",
       "    </tr>\n",
       "  </tbody>\n",
       "</table>\n",
       "</div>"
      ],
      "text/plain": [
       "             Open   High     Low  Close      Volume  ExDividend  SplitRatio  \\\n",
       "Date                                                                          \n",
       "2018-03-27  76.53  78.44  76.300  77.79  11257559.0         0.0         1.0   \n",
       "2018-03-26  76.57  76.87  76.020  76.41  11959444.0         0.0         1.0   \n",
       "2018-03-23  76.79  77.18  75.805  75.91  11626422.0         0.0         1.0   \n",
       "2018-03-22  76.83  77.52  76.370  76.41  10396180.0         0.0         1.0   \n",
       "2018-03-21  78.05  78.24  76.880  77.04   9776002.0         0.0         1.0   \n",
       "\n",
       "            AdjOpen  AdjHigh  AdjLow  AdjClose   AdjVolume  \n",
       "Date                                                        \n",
       "2018-03-27    76.53    78.44  76.300     77.79  11257559.0  \n",
       "2018-03-26    76.57    76.87  76.020     76.41  11959444.0  \n",
       "2018-03-23    76.79    77.18  75.805     75.91  11626422.0  \n",
       "2018-03-22    76.83    77.52  76.370     76.41  10396180.0  \n",
       "2018-03-21    78.05    78.24  76.880     77.04   9776002.0  "
      ]
     },
     "execution_count": 3,
     "metadata": {},
     "output_type": "execute_result"
    }
   ],
   "source": [
    "PG.head()"
   ]
  },
  {
   "cell_type": "code",
   "execution_count": 4,
   "metadata": {},
   "outputs": [
    {
     "data": {
      "text/plain": [
       "Date\n",
       "2018-03-27         NaN\n",
       "2018-03-26   -0.017899\n",
       "2018-03-23   -0.006565\n",
       "2018-03-22    0.006565\n",
       "2018-03-21    0.008211\n",
       "                ...   \n",
       "1995-01-09   -0.012244\n",
       "1995-01-06    0.006059\n",
       "1995-01-05   -0.004090\n",
       "1995-01-04    0.014323\n",
       "1995-01-03    0.008048\n",
       "Name: log_return, Length: 5849, dtype: float64"
      ]
     },
     "execution_count": 4,
     "metadata": {},
     "output_type": "execute_result"
    }
   ],
   "source": [
    "PG['log_return'] = np.log(PG['AdjClose'] / PG['AdjClose'].shift(1))\n",
    "PG['log_return']"
   ]
  },
  {
   "cell_type": "code",
   "execution_count": 5,
   "metadata": {},
   "outputs": [
    {
     "data": {
      "image/png": "[encoded data removed]",
      "text/plain": [
       "<Figure size 576x360 with 1 Axes>"
      ]
     },
     "metadata": {
      "needs_background": "light"
     },
     "output_type": "display_data"
    }
   ],
   "source": [
    "PG['log_return'].plot(figsize=(8, 5))\n",
    "plt.show()"
   ]
  },
  {
   "cell_type": "code",
   "execution_count": 7,
   "metadata": {},
   "outputs": [],
   "source": [
    "log_return_d = PG['log_return'].mean()"
   ]
  },
  {
   "cell_type": "code",
   "execution_count": 8,
   "metadata": {},
   "outputs": [
    {
     "data": {
      "text/plain": [
       "-0.00036833069325411"
      ]
     },
     "execution_count": 8,
     "metadata": {},
     "output_type": "execute_result"
    }
   ],
   "source": [
    "log_return_d"
   ]
  },
  {
   "cell_type": "code",
   "execution_count": 9,
   "metadata": {},
   "outputs": [],
   "source": [
    "log_return_a = PG['log_return'].mean() * 250"
   ]
  },
  {
   "cell_type": "code",
   "execution_count": 10,
   "metadata": {},
   "outputs": [
    {
     "data": {
      "text/plain": [
       "-0.0920826733135275"
      ]
     },
     "execution_count": 10,
     "metadata": {},
     "output_type": "execute_result"
    }
   ],
   "source": [
    "log_return_a"
   ]
  },
  {
   "cell_type": "code",
   "execution_count": 11,
   "metadata": {},
   "outputs": [
    {
     "data": {
      "text/plain": [
       "'-9.208'"
      ]
     },
     "execution_count": 11,
     "metadata": {},
     "output_type": "execute_result"
    }
   ],
   "source": [
    "str(round(log_return_a, 5) * 100)"
   ]
  },
  {
   "cell_type": "code",
   "execution_count": null,
   "metadata": {},
   "outputs": [],
   "source": []
  }
 ],
 "metadata": {
  "kernelspec": {
   "display_name": "Python 3",
   "language": "python",
   "name": "python3"
  },
  "language_info": {
   "codemirror_mode": {
    "name": "ipython",
    "version": 3
   },
   "file_extension": ".py",
   "mimetype": "text/x-python",
   "name": "python",
   "nbconvert_exporter": "python",
   "pygments_lexer": "ipython3",
   "version": "3.7.4"
  }
 },
 "nbformat": 4,
 "nbformat_minor": 2
}
